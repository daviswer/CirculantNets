{
 "cells": [
  {
   "cell_type": "code",
   "execution_count": 1,
   "metadata": {
    "collapsed": true
   },
   "outputs": [],
   "source": [
    "from torchvision.models import resnet18\n",
    "from torchvision import transforms\n",
    "import numpy as np\n",
    "import torch\n",
    "import torch.autograd as autograd\n",
    "from torch.autograd import Variable\n",
    "import torch.nn as nn\n",
    "import pylab as pl\n",
    "import time\n",
    "import pyinn.ncrelu as ncrelu\n",
    "import math\n",
    "from IPython import display\n",
    "import torch.nn.functional as F\n",
    "torch.cuda.set_device(3)"
   ]
  },
  {
   "cell_type": "code",
   "execution_count": 2,
   "metadata": {},
   "outputs": [
    {
     "name": "stdout",
     "output_type": "stream",
     "text": [
      "50 550\n"
     ]
    }
   ],
   "source": [
    "training_data = torch.load('/data/mini_imagenet/mIN_96.pth')\n",
    "testing_data = [i[-50:] for i in training_data]\n",
    "training_data = [i[:-50] for i in training_data]\n",
    "print(len(testing_data[0]),len(training_data[0]))"
   ]
  },
  {
   "cell_type": "code",
   "execution_count": 3,
   "metadata": {
    "collapsed": true
   },
   "outputs": [],
   "source": [
    "from gpytorch.utils.fft import fft3,ifft3\n",
    "from torch.autograd import Variable, Function\n",
    "from torch.nn.parameter import Parameter\n",
    "\n",
    "class FFT3(Function):\n",
    "    def __init__(self):\n",
    "        super(FFT3, self).__init__()\n",
    "    \n",
    "    def forward(self, inp):\n",
    "        return fft3(inp)\n",
    "    \n",
    "    def backward(self, grad):\n",
    "        return ifft3(grad)\n",
    "    \n",
    "class FFT3_up(Function):\n",
    "    def __init__(self):\n",
    "        super(FFT3_up, self).__init__()\n",
    "    \n",
    "    def forward(self, inp):\n",
    "        result = fft3(inp)\n",
    "        return result\n",
    "    \n",
    "    def backward(self, grad):\n",
    "        return ifft3(grad).sum(0).unsqueeze(0)\n",
    "    \n",
    "class iFFT3(Function):\n",
    "    def __init__(self):\n",
    "        super(iFFT3, self).__init__()\n",
    "        \n",
    "    def forward(self, inp):\n",
    "        return ifft3(inp)\n",
    "    \n",
    "    def backward(self, grad):\n",
    "        return fft3(grad)\n",
    "    \n",
    "class Conv3dF(nn.Module):\n",
    "    def __init__(self,nchannels,size,padding=False):\n",
    "        super(Conv3dF,self).__init__()\n",
    "        self.nchannels = nchannels\n",
    "        self.fft = FFT3()\n",
    "        self.ifft = iFFT3()\n",
    "        self.fftup = FFT3_up()\n",
    "        self.padding = padding\n",
    "        self.striper = Variable(torch.bernoulli(torch.ones(1,nchannels,1,1)/2)*2-1, requires_grad=False).cuda()\n",
    "        self.padder = (nn.ConstantPad2d((0,size-3+2,0,size-3+2),0) if padding else \n",
    "                       nn.ConstantPad2d((0,size-3,0,size-3),0))\n",
    "        self.weights = Parameter(torch.randn(1,nchannels,3,3)*2/math.sqrt(nchannels)) \n",
    "                                                # TODO proper weight initialization\n",
    "        \n",
    "    def forward(self, inp):\n",
    "        fi = self.fft(F.pad(self.striper*inp,(1,1,1,1))) if self.padding else self.fft(self.striper*inp)\n",
    "        fw = self.fftup(self.padder(self.weights))\n",
    "        result = torch.cat([(fi[:,:,:,:,0]*fw[:,:,:,:,0]-fi[:,:,:,:,1]*fw[:,:,:,:,1]).unsqueeze(4),\n",
    "                            (fi[:,:,:,:,0]*fw[:,:,:,:,1]+fi[:,:,:,:,1]*fw[:,:,:,:,0]).unsqueeze(4)],dim=4)\n",
    "#         print(\"GOTHERE fft elem mult\")\n",
    "        return self.ifft(result)[:,:,1:-1,1:-1].contiguous() if self.padding else self.ifft(result)\n",
    "        "
   ]
  },
  {
   "cell_type": "code",
   "execution_count": 11,
   "metadata": {
    "collapsed": true
   },
   "outputs": [],
   "source": [
    "class fftBlock(nn.Module):\n",
    "    def __init__(self, size, imsize, padding=False):\n",
    "        super(fftBlock, self).__init__()\n",
    "        self.layers = nn.Sequential(\n",
    "            Conv3dF(size, imsize, padding),\n",
    "            nn.BatchNorm2d(size)\n",
    "        )\n",
    "        \n",
    "    def forward(self, inp):\n",
    "#         print(\"GOTHERE fft block\",inp.size())\n",
    "        return ncrelu(self.layers(inp))\n",
    "    \n",
    "class Block(nn.Module):\n",
    "    def __init__(self, insize, outsize):\n",
    "        super(Block, self).__init__()\n",
    "        self.layers = nn.Sequential(\n",
    "            nn.Conv2d(insize, outsize, kernel_size=3, padding=1),\n",
    "            nn.BatchNorm2d(outsize)\n",
    "        )\n",
    "        \n",
    "    def forward(self, inp):\n",
    "#         print(\"GOTHERE block\",inp.size())\n",
    "        return ncrelu(self.layers(inp))\n",
    "\n",
    "class ENCODER(nn.Module):\n",
    "    def __init__(self):\n",
    "        super(ENCODER, self).__init__()\n",
    "        self.process = nn.Sequential(\n",
    "            nn.Conv2d(3,64,kernel_size=3,padding=1),\n",
    "            Block(64,64),\n",
    "            nn.MaxPool2d(2),\n",
    "            Block(128,128),\n",
    "            nn.MaxPool2d(2),\n",
    "            Block(256,256),\n",
    "            nn.MaxPool2d(2),\n",
    "            fftBlock(512,12,padding=True),\n",
    "            nn.MaxPool2d(2),\n",
    "            fftBlock(1024,6,padding=True),\n",
    "            nn.AvgPool2d((6,6)))\n",
    "        self.final = nn.Sequential(\n",
    "            nn.Linear(2048,100)\n",
    "        )\n",
    "            \n",
    "    def forward(self, inp):\n",
    "        out = self.process(inp)\n",
    "        return self.final(out.view(-1, 2048))\n"
   ]
  },
  {
   "cell_type": "code",
   "execution_count": 15,
   "metadata": {},
   "outputs": [
    {
     "data": {
      "text/plain": [
       "(2.029795287489891, 0.4926)"
      ]
     },
     "execution_count": 15,
     "metadata": {},
     "output_type": "execute_result"
    }
   ],
   "source": [
    "model.eval()\n",
    "evaluate(model, criterion, testing_data, shot=50)"
   ]
  },
  {
   "cell_type": "code",
   "execution_count": 5,
   "metadata": {
    "collapsed": true
   },
   "outputs": [],
   "source": [
    "standardize = transforms.Compose([\n",
    "            transforms.ToTensor(),\n",
    "            transforms.Normalize(mean=[.485,.456,.406],std=[.229,.224,.225])\n",
    "            ])\n",
    "\n",
    "alter = transforms.Compose([\n",
    "            transforms.ToPILImage(),\n",
    "            transforms.RandomHorizontalFlip(),\n",
    "            transforms.RandomCrop(80,padding=10),\n",
    "            standardize\n",
    "            ])\n",
    "\n",
    "def batchmaker(theset, way=20, shot=1, alterful=False):\n",
    "    classes = np.random.choice(len(theset),way)\n",
    "    if alterful:\n",
    "        li = [torch.cat([alter(theset[cl][i]).view(1,3,80,80) for i in \n",
    "                         np.random.choice(len(theset[0]),shot)],dim=0).float()\n",
    "              for cl in classes]\n",
    "    else:\n",
    "        li = [torch.cat([standardize(theset[cl][i]).view(1,3,80,80) for i in \n",
    "                         np.random.choice(len(theset[0]),shot)],dim=0).float()\n",
    "              for cl in classes]\n",
    "    support = torch.cat([t[:shot,:,:,:] for t in li],dim=0)\n",
    "    stargs = torch.LongTensor(np.repeat(classes, shot))\n",
    "#     query = torch.cat([t[trainshot:,:,:,:] for t in li],dim=0)\n",
    "#     qtargs = torch.LongTensor([i//shot for i in range(testshot*way)])\n",
    "    return(Variable(support, volatile=(not alterful)).cuda(),\n",
    "           Variable(stargs, volatile=(not alterful)).cuda()\n",
    "          )\n",
    "# batchmaker(training_data,shot=2)"
   ]
  },
  {
   "cell_type": "code",
   "execution_count": 6,
   "metadata": {
    "collapsed": true
   },
   "outputs": [],
   "source": [
    "criterion = nn.CrossEntropyLoss().cuda()\n",
    "# optimizer = torch.optim.Adam(model.parameters())"
   ]
  },
  {
   "cell_type": "code",
   "execution_count": 7,
   "metadata": {
    "collapsed": true
   },
   "outputs": [],
   "source": [
    "def evaluate(model, criterion, testing_data, shot=10, way=100):\n",
    "    support, targs = batchmaker(testing_data, way=way, shot=shot)\n",
    "    assert (shot*way)%20==0\n",
    "    batches = int(shot*way/20)\n",
    "    support = support.view(batches, 20, 3, 80, 80)\n",
    "    targs = targs.view(batches, 20)\n",
    "    acc = 0\n",
    "    loss = 0\n",
    "    for i in range(batches):\n",
    "        preds = model(support[i,:,:,:,:])\n",
    "        loss += criterion(preds, targs[i,:]).data[0]\n",
    "        _,bins = torch.max(preds, 1)\n",
    "        acc += torch.sum(torch.eq(bins,targs[i,:])).data[0]\n",
    "    acc = float(acc)/shot/way\n",
    "    loss = float(loss)/batches\n",
    "    return loss, acc"
   ]
  },
  {
   "cell_type": "code",
   "execution_count": 12,
   "metadata": {},
   "outputs": [
    {
     "name": "stdout",
     "output_type": "stream",
     "text": [
      "999076  parameters in neural net.\n"
     ]
    }
   ],
   "source": [
    "model = ENCODER()\n",
    "model.cuda()\n",
    "nweights = sum([i.numel() for i in list(model.parameters())])\n",
    "print(nweights,\" parameters in neural net.\")"
   ]
  },
  {
   "cell_type": "code",
   "execution_count": 13,
   "metadata": {},
   "outputs": [
    {
     "data": {
      "image/png": "[encoded data removed]",
      "text/plain": [
       "<matplotlib.figure.Figure at 0x7f21d486ca58>"
      ]
     },
     "metadata": {},
     "output_type": "display_data"
    },
    {
     "name": "stdout",
     "output_type": "stream",
     "text": [
      "Train loss is: 1.9121760475635527\n",
      "Validation accuracy is: 0.47600000000000003\n",
      "Validation loss is: 2.0721118104457856\n",
      "\n",
      "2008.0359811782837\n"
     ]
    }
   ],
   "source": [
    "%matplotlib inline\n",
    "\n",
    "vbity = 200\n",
    "epoch = 5000\n",
    "start = time.time()\n",
    "losstracker = []\n",
    "evalacctracker = []\n",
    "evallosstracker = []\n",
    "runningloss = 0\n",
    "limit = 6\n",
    "for it in range(limit*epoch):\n",
    "    if it%50==0:\n",
    "        print(it)\n",
    "    \n",
    "    # Build batch\n",
    "    support, targs = batchmaker(training_data, alterful=True)\n",
    "    \n",
    "    # Predict\n",
    "    model.zero_grad()\n",
    "    preds = model(support)\n",
    "\n",
    "    # Calculate Loss\n",
    "    loss = criterion(preds, targs)\n",
    "    runningloss += loss.data[0]\n",
    "    \n",
    "    # Backprop\n",
    "    if it%epoch == 0:\n",
    "        optimizer = torch.optim.Adam(model.parameters(),lr=.001/(2**(it//epoch)))\n",
    "    loss.backward()\n",
    "#     nn.utils.clip_grad_norm(model.parameters(), 1)\n",
    "    optimizer.step()\n",
    "    \n",
    "    # Report\n",
    "    if it%vbity == vbity-1:\n",
    "        display.clear_output(wait=True)\n",
    "\n",
    "        losstracker.append(runningloss/vbity)\n",
    "        model = model.eval()\n",
    "        evalloss, evalacc = evaluate(model, criterion, testing_data, shot=20)\n",
    "        model = model.train()\n",
    "        evallosstracker.append(evalloss)\n",
    "        evalacctracker.append(evalacc)\n",
    "        \n",
    "        pl.figure(1,figsize=(15,5))\n",
    "        pl.subplot(1,2,1)\n",
    "        pl.plot(losstracker)\n",
    "        pl.plot(evallosstracker)\n",
    "        pl.ylim((0,4))\n",
    "#         pl.xlim((0,limit*epoch))\n",
    "        pl.title(\"Loss: Training Blue, Validation Gold\")\n",
    "        pl.subplot(1,2,2)\n",
    "        pl.plot(evalacctracker[::-1])\n",
    "        pl.ylim((0,1))\n",
    "#         pl.xlim((0,limit*epoch))\n",
    "        pl.title(\"Validation Acc\")\n",
    "        pl.show()\n",
    "        \n",
    "        print(\"Train loss is: \"+str(runningloss/vbity)+\n",
    "              \"\\nValidation accuracy is: \"+str(evalacc)+\n",
    "              \"\\nValidation loss is: \"+str(evalloss)+\"\\n\")\n",
    "        runningloss = 0\n",
    "        print(time.time()-start)"
   ]
  },
  {
   "cell_type": "code",
   "execution_count": 14,
   "metadata": {},
   "outputs": [
    {
     "data": {
      "text/plain": [
       "0.47816999999999998"
      ]
     },
     "execution_count": 14,
     "metadata": {},
     "output_type": "execute_result"
    }
   ],
   "source": [
    "name = \"hybrid_1024\"\n",
    "torch.save((embed,model,losstracker,evallosstracker,evalacctracker),'saved_models/'+name+'.pth')"
   ]
  },
  {
   "cell_type": "code",
   "execution_count": null,
   "metadata": {
    "collapsed": true
   },
   "outputs": [],
   "source": []
  },
  {
   "cell_type": "code",
   "execution_count": null,
   "metadata": {
    "collapsed": true
   },
   "outputs": [],
   "source": []
  },
  {
   "cell_type": "code",
   "execution_count": null,
   "metadata": {
    "collapsed": true
   },
   "outputs": [],
   "source": []
  },
  {
   "cell_type": "code",
   "execution_count": null,
   "metadata": {
    "collapsed": true
   },
   "outputs": [],
   "source": []
  }
 ],
 "metadata": {
  "kernelspec": {
   "display_name": "Python 3",
   "language": "python",
   "name": "python3"
  },
  "language_info": {
   "codemirror_mode": {
    "name": "ipython",
    "version": 3
   },
   "file_extension": ".py",
   "mimetype": "text/x-python",
   "name": "python",
   "nbconvert_exporter": "python",
   "pygments_lexer": "ipython3",
   "version": "3.6.3"
  }
 },
 "nbformat": 4,
 "nbformat_minor": 2
}
