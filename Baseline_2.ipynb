{
 "cells": [
  {
   "cell_type": "code",
   "execution_count": 1,
   "metadata": {
    "collapsed": true
   },
   "outputs": [],
   "source": [
    "import torch\n",
    "import torch.nn as nn\n",
    "import torch.nn.functional as F\n",
    "import torch.optim as optim\n",
    "import torch.autograd as autograd\n",
    "import torchvision.transforms as transforms\n",
    "from torch.autograd import Variable\n",
    "from torch.nn.parameter import Parameter\n",
    "# import Transforms\n",
    "%matplotlib inline\n",
    "import pylab as pl\n",
    "from IPython import display\n",
    "import numpy as np\n",
    "import time"
   ]
  },
  {
   "cell_type": "code",
   "execution_count": 2,
   "metadata": {},
   "outputs": [],
   "source": [
    "data = torch.load(\"../mIN_train.pth\")"
   ]
  },
  {
   "cell_type": "code",
   "execution_count": 3,
   "metadata": {
    "collapsed": true
   },
   "outputs": [],
   "source": [
    "torch.cuda.set_device(0)\n",
    "a = 512\n",
    "newdata = torch.stack([torch.ByteTensor(data[0][i]).float().view(84,84,3).transpose(0,2).contiguous() \n",
    "                       for i in range(64)],0)\n",
    "newdata = Variable(newdata).cuda()\n",
    "criterion = nn.MSELoss()\n",
    "targ = Variable(torch.randn(64,a,16,16)).cuda()"
   ]
  },
  {
   "cell_type": "code",
   "execution_count": 4,
   "metadata": {},
   "outputs": [
    {
     "name": "stdout",
     "output_type": "stream",
     "text": [
      "14160896  parameters in baseline neural net.\n"
     ]
    }
   ],
   "source": [
    "class testnet(nn.Module):\n",
    "    def __init__(self):\n",
    "        super(testnet, self).__init__()\n",
    "        self.process = nn.Sequential(\n",
    "            nn.MaxPool2d(5),\n",
    "            nn.Conv2d(3,a,(1,1),padding=0),\n",
    "            nn.ReLU(),\n",
    "            nn.Conv2d(a,a,(3,3),padding=1),\n",
    "            nn.ReLU(),\n",
    "            nn.Conv2d(a,a,(3,3),padding=1),\n",
    "            nn.ReLU(),\n",
    "            nn.Conv2d(a,a,(3,3),padding=1),\n",
    "            nn.ReLU(),\n",
    "            nn.Conv2d(a,a,(3,3),padding=1),\n",
    "            nn.ReLU(),\n",
    "            nn.Conv2d(a,a,(3,3),padding=1),\n",
    "            nn.ReLU(),\n",
    "            nn.Conv2d(a,a,(3,3),padding=1),\n",
    "            nn.ReLU()\n",
    "        )\n",
    "        \n",
    "    def forward(self, inp):\n",
    "        return self.process(inp)\n",
    "    \n",
    "net = testnet().cuda()\n",
    "nweights = sum([i.numel() for i in list(net.parameters())])\n",
    "print(nweights,\" parameters in baseline neural net.\")"
   ]
  },
  {
   "cell_type": "code",
   "execution_count": 5,
   "metadata": {},
   "outputs": [
    {
     "name": "stdout",
     "output_type": "stream",
     "text": [
      "0.8953635692596436\n"
     ]
    }
   ],
   "source": [
    "# TEST\n",
    "start = time.time()\n",
    "for i in range(1):\n",
    "    net.zero_grad()\n",
    "    out = net(newdata)\n",
    "    loss = criterion(out,targ)\n",
    "    loss.backward()\n",
    "    torch.cuda.synchronize()\n",
    "print(time.time()-start)\n",
    "# 2367 Mb  64\n",
    "# 4241 Mb  128\n",
    "# 9169 Mb  256\n",
    "\n",
    "# 779 Mb  256 16\n",
    "# 3291 Mb  512 16"
   ]
  }
 ],
 "metadata": {
  "kernelspec": {
   "display_name": "Python 3",
   "language": "python",
   "name": "python3"
  },
  "language_info": {
   "codemirror_mode": {
    "name": "ipython",
    "version": 3
   },
   "file_extension": ".py",
   "mimetype": "text/x-python",
   "name": "python",
   "nbconvert_exporter": "python",
   "pygments_lexer": "ipython3",
   "version": "3.6.3"
  }
 },
 "nbformat": 4,
 "nbformat_minor": 2
}
