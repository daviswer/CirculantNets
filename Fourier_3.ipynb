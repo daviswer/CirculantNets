{
 "cells": [
  {
   "cell_type": "code",
   "execution_count": 1,
   "metadata": {
    "collapsed": true
   },
   "outputs": [],
   "source": [
    "import torch\n",
    "import torch.nn as nn\n",
    "import torch.nn.functional as F\n",
    "import torch.optim as optim\n",
    "import torch.autograd as autograd\n",
    "import torchvision.transforms as transforms\n",
    "from torch.autograd import Variable\n",
    "from torch.nn.parameter import Parameter\n",
    "# import Transforms\n",
    "%matplotlib inline\n",
    "import pylab as pl\n",
    "from IPython import display\n",
    "import numpy as np\n",
    "import time"
   ]
  },
  {
   "cell_type": "code",
   "execution_count": 2,
   "metadata": {
    "collapsed": true
   },
   "outputs": [],
   "source": [
    "data = torch.load(\"../mIN_train.pth\")"
   ]
  },
  {
   "cell_type": "code",
   "execution_count": 3,
   "metadata": {
    "collapsed": true
   },
   "outputs": [],
   "source": [
    "torch.cuda.set_device(1)\n",
    "a = 512\n",
    "newdata = torch.stack([torch.ByteTensor(data[0][i]).float().view(84,84,3).transpose(0,2).contiguous() \n",
    "                       for i in range(64)],0)\n",
    "newdata = Variable(newdata).cuda()\n",
    "criterion = nn.MSELoss()\n",
    "targ = Variable(torch.randn(64,a,16,16)).cuda()"
   ]
  },
  {
   "cell_type": "code",
   "execution_count": 11,
   "metadata": {},
   "outputs": [],
   "source": [
    "from gpytorch.utils.fft import fft3,ifft3\n",
    "from torch.autograd import Variable, Function\n",
    "from torch.nn.parameter import Parameter\n",
    "\n",
    "class FFT3(Function):\n",
    "    def __init__(self):\n",
    "        super(FFT3, self).__init__()\n",
    "    \n",
    "    def forward(self, inp):\n",
    "        return fft3(inp)\n",
    "    \n",
    "    def backward(self, grad):\n",
    "        return ifft3(grad)\n",
    "\n",
    "class FFT3_up(Function):\n",
    "    def __init__(self,bsize):\n",
    "        super(FFT3_up, self).__init__()\n",
    "        self.bsize = bsize\n",
    "    \n",
    "    def forward(self, inp):\n",
    "        result = fft3(inp)\n",
    "        return result.expand(self.bsize,inp.size(1),inp.size(2),inp.size(3)//2+1,2)\n",
    "    \n",
    "    def backward(self, grad):\n",
    "        return ifft3(grad).sum(0).unsqueeze(0)\n",
    "    \n",
    "class iFFT3(Function):\n",
    "    def __init__(self):\n",
    "        super(iFFT3, self).__init__()\n",
    "        \n",
    "    def forward(self, inp):\n",
    "        return ifft3(inp)\n",
    "    \n",
    "    def backward(self, grad):\n",
    "        return fft3(grad)\n",
    "    \n",
    "class Conv3dF(nn.Module):\n",
    "    def __init__(self,nchannels,size):\n",
    "        super(Conv3dF,self).__init__()\n",
    "        self.nchannels = nchannels\n",
    "        self.size = size\n",
    "        self.fft = FFT3()\n",
    "        self.ifft = iFFT3()\n",
    "        self.fftup = FFT3_up(64)\n",
    "        self.padder = nn.ConstantPad2d((0,size-3,0,size-3),0)\n",
    "        self.weights = Parameter(torch.randn(nchannels,3,3).view(1,nchannels,3,3)) \n",
    "                                                # TODO proper weight initialization\n",
    "        \n",
    "    def forward(self, inp):\n",
    "        assert inp.size(2)==self.size and inp.size(3)==self.size\n",
    "        fi = self.fft(inp) #self.fft(F.pad(inp,(1,1,1,1)))\n",
    "        fw = self.fftup(self.padder(self.weights))\n",
    "        result = torch.cat([(fi[:,:,:,:,0]*fw[:,:,:,:,0]-fi[:,:,:,:,1]*fw[:,:,:,:,1]).unsqueeze(4),\n",
    "                            (fi[:,:,:,:,0]*fw[:,:,:,:,1]+fi[:,:,:,:,1]*fw[:,:,:,:,0]).unsqueeze(4)],dim=4)\n",
    "#         k = fw[:,:,:,:,0]*fi.sum(4)\n",
    "#         d = fi[:,:,:,:,1]*fw.sum(4)\n",
    "#         c = fi[:,:,:,:,0]*(fw[:,:,:,:,0]-fw[:,:,:,:,1])\n",
    "#         result = torch.cat([(k-d).unsqueeze(4),\n",
    "#                             (k-c).unsqueeze(4)],dim=4)\n",
    "        return self.ifft(result) #[:,:,1:-1,1:-1]\n",
    "        "
   ]
  },
  {
   "cell_type": "code",
   "execution_count": 12,
   "metadata": {},
   "outputs": [
    {
     "name": "stdout",
     "output_type": "stream",
     "text": [
      "29696  parameters in Fourier neural net.\n"
     ]
    }
   ],
   "source": [
    "class testnet(nn.Module):\n",
    "    def __init__(self):\n",
    "        super(testnet, self).__init__()\n",
    "        self.process = nn.Sequential(\n",
    "            nn.MaxPool2d(5),\n",
    "            nn.Conv2d(3,a,(1,1),padding=0),\n",
    "            nn.ReLU(),\n",
    "            Conv3dF(a,16),\n",
    "            nn.ReLU(),\n",
    "            Conv3dF(a,16),\n",
    "            nn.ReLU(),\n",
    "            Conv3dF(a,16),\n",
    "            nn.ReLU(),\n",
    "            Conv3dF(a,16),\n",
    "            nn.ReLU(),\n",
    "            Conv3dF(a,16),\n",
    "            nn.ReLU(),\n",
    "            Conv3dF(a,16),\n",
    "            nn.ReLU()\n",
    "        )\n",
    "        \n",
    "    def forward(self, inp):\n",
    "        return self.process(inp)\n",
    "\n",
    "net = testnet().cuda()\n",
    "nweights = sum([i.numel() for i in list(net.parameters())])\n",
    "print(nweights,\" parameters in Fourier neural net.\")"
   ]
  },
  {
   "cell_type": "code",
   "execution_count": 13,
   "metadata": {},
   "outputs": [
    {
     "name": "stdout",
     "output_type": "stream",
     "text": [
      "0.18209481239318848\n"
     ]
    }
   ],
   "source": [
    "# FOURIER 3D\n",
    "start = time.time()\n",
    "for i in range(1):\n",
    "    net.zero_grad()\n",
    "    out = net(newdata)\n",
    "    loss = criterion(out,targ)\n",
    "    loss.backward()\n",
    "print(time.time()-start)\n",
    "# 3057 Mb  64\n",
    "# 5563 Mb  128\n",
    "# 10589 Mb  256\n",
    "\n",
    "# 887 Mb  256 16\n",
    "# 1263 Mb  512 16   (!!!) (Time-equivalent too!)"
   ]
  }
 ],
 "metadata": {
  "kernelspec": {
   "display_name": "Python 3",
   "language": "python",
   "name": "python3"
  },
  "language_info": {
   "codemirror_mode": {
    "name": "ipython",
    "version": 3
   },
   "file_extension": ".py",
   "mimetype": "text/x-python",
   "name": "python",
   "nbconvert_exporter": "python",
   "pygments_lexer": "ipython3",
   "version": "3.6.3"
  }
 },
 "nbformat": 4,
 "nbformat_minor": 2
}
